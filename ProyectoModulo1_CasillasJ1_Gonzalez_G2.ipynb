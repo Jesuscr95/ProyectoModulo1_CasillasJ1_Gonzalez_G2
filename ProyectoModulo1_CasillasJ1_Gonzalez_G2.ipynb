{
 "cells": [
  {
   "cell_type": "markdown",
   "metadata": {},
   "source": [
    "___\n",
    "## Tratamiento de aguas residuales\n",
    "\n",
    "\n",
    "Lo que se busca en nuestro problema es que mediante 4 plantas de tratamiento de agua residual minimizar una funcion\n",
    "para que nuestra contaminacion sea de 20 mg/L.\n",
    "\n",
    "### 1.2 Objetivos.\n",
    "> - El proposito de esto es poner a prueba los conocimientos adaquiridos en clase en un problema de la vida real en \n",
    "el cual tenemos que optimizar las plantas de tratamiento.\n",
    "\n",
    "> ####  Trabajo requerido de la planta para que la contaminacion en las 4 plantas se rebaje a 20mg/L de contaminacion y minimizar costo diario.\n",
    "> #### 1.2 Objetivos específicos\n",
    ">  - Se busca la manera de minizar la variable x despejando las funciones y despues resolverlo matricialmente mediante\n",
    "la funcional de costo \n",
    ">  - Conseguir el valor minimo del costo minimo diario para las plantas.\n"
   ]
  },
  {
   "cell_type": "code",
   "execution_count": 99,
   "metadata": {},
   "outputs": [],
   "source": [
    "import numpy as np\n",
    "import scipy.optimize as opt\n"
   ]
  },
  {
   "cell_type": "markdown",
   "metadata": {},
   "source": [
    "\n",
    "Se muestran los parametros para las 4 plantas de tratamiento descargando la contaminacion a un sistema de rio\n",
    "con la resultante de la concentracion (Ci) para 0 tratamiento. Flujo, removedor y estandares para segmentos\n",
    "del rio tambien se listan: \n",
    "\n",
    "Ciudad|Pi(mg/d)|di($10^{-6}$/mg)|ci(mg/L)|Segmento|Q(L/d)|R|Cs(mg/L)\n",
    ":----|----|----|----|---|----|----|----|\n",
    "1|  1.00x$10^{9}$|2|100|1-3|1.00x$10^{7}$|0.5|20\n",
    "2|  2.00x$10^{9}$|2|40|2-3|5.00x$10^{7}$|0.35|20\n",
    "3|  4.00x$10^{9}$|4|47.3|3-4|1.10x$10^{8}$|0.6|20\n",
    "4|  2.50x$10^{9}$|4|22.5|4-5|2.50x$10^{8}$|. |20\n",
    "\n",
    "\n",
    "\n",
    "**¿Cuanto dinero debe gastar minimo para remover la contaminacion del agua y que llegue a solo 20 mg/L de contaminación?**\n",
    "\n",
    "Nuestra funcional de costo esta dada por:\n",
    "\n",
    " $$\\min_{x_1,\\dots,x_4}d_1P_1x_1++d_2P_2x_2+d_3P_3x_3+d_4P_4x_4$$\n",
    " \n",
    " Sustituida nos da esta ecuacion:\n",
    " \n",
    " $$\\min_{x_1,\\dots,x_4}2x10^{3}x_1+4x10^{3}x_2+16x10^{3}x_3+10x10^{3}x_4$$\n",
    " \n",
    " \n",
    " $$\\min_{x_1,\\dots,x_4}2000x_1+4000x_2+16000x_3+10000x_4$$\n",
    " \n",
    " Donde x es una variable para el costo para que remueva la planta de tratamiento la contaminacion de agua\n",
    " \n",
    " \n",
    "Y se nos dan las siguientes restricciones:\n",
    "\n",
    "- $\\frac{(1-x_1)P_1}{Q_{13}}\\leq C_{s1}$\n",
    "\n",
    "\n",
    "- $\\frac{(1-x_2)P_2}{Q_{23}}\\leq C_{s2}$\n",
    "\n",
    "\n",
    "- $\\frac{R_{13}Q_{13}C_1 + R_{23}Q_{23}C_2 + (1-x_3)P_3}{Q_{34}}\\leq C_{s3}$\n",
    "\n",
    "\n",
    "- $\\frac{R_{34}Q_{34}C_3 + (1-x_4)P_4}{Q_{45}}\\leq C_{s4}$\n",
    "\n",
    "\n",
    "- $0 \\leq x_1,x_2,x_3,x_4\\leq 1$\n",
    "\n",
    "Sustituido:\n",
    "\n",
    "- $x_1\\geq 0.8$\n",
    "\n",
    "\n",
    "- $x_2\\geq 0.5$\n",
    "\n",
    "\n",
    "- $x_3\\geq 0.5625$\n",
    "\n",
    "\n",
    "- $x_4\\leq 2.4872$\n",
    "\n",
    "\n",
    "- $0 \\leq x_1,x_2,x_3,x_4\\leq 1$\n",
    "\n",
    "\n"
   ]
  },
  {
   "cell_type": "code",
   "execution_count": 97,
   "metadata": {},
   "outputs": [],
   "source": [
    "c = np.array([2000,4000,16000,10000])\n",
    "A = np.array([[-1,0,0,0],\n",
    "             [0,-1,0,0],\n",
    "             [0,0,-1,0],\n",
    "             [0,0,0,1]])\n",
    "b = np.array([-.8,-.5,-.5625,2.4872])\n",
    "\n",
    "xi_bounds = (0,1)"
   ]
  },
  {
   "cell_type": "code",
   "execution_count": 98,
   "metadata": {},
   "outputs": [
    {
     "data": {
      "text/plain": [
       "     con: array([], dtype=float64)\n",
       "     fun: 12600.0\n",
       " message: 'The solution was determined in presolve as there are no non-trivial constraints.'\n",
       "     nit: 0\n",
       "   slack: array([0.    , 0.    , 0.    , 2.4872])\n",
       "  status: 0\n",
       " success: True\n",
       "       x: array([0.8   , 0.5   , 0.5625, 0.    ])"
      ]
     },
     "execution_count": 98,
     "metadata": {},
     "output_type": "execute_result"
    }
   ],
   "source": [
    "\n",
    "sol = opt.linprog(c,A_ub=A,b_ub=b,bounds=xi_bounds)\n",
    "sol"
   ]
  },
  {
   "cell_type": "markdown",
   "metadata": {},
   "source": [
    "\n",
    "Concluimos que lo minimo a gastar para la planta de tratamiento para obtener estos parametros es de 12,600 por dia. Y la planta 4 de tratamiento concluimos que no requiere tratamiento."
   ]
  },
  {
   "cell_type": "markdown",
   "metadata": {},
   "source": [
    "### Referencias\n",
    "\n",
    "Profesor Cristian Camilo Zapata\n",
    "\n",
    "\n",
    "Numerical Methods for Engineers 7th Edition Published by McGraw-Hill Education, 2 Penn Plaza, New York, NY 10121. \n",
    "\n",
    "Copyright © 2015 by McGraw-Hill Education.\n",
    "Steven C. Chapra y Raymond P. Canale"
   ]
  },
  {
   "cell_type": "markdown",
   "metadata": {},
   "source": [
    "<script>\n",
    "  $(document).ready(function(){\n",
    "    $('div.prompt').hide();\n",
    "    $('div.back-to-top').hide();\n",
    "    $('nav#menubar').hide();\n",
    "    $('.breadcrumb').hide();\n",
    "    $('.hidden-print').hide();\n",
    "  });\n",
    "</script>\n",
    "\n",
    "<footer id=\"attribution\" style=\"float:right; color:#808080; background:#fff;\">\n",
    "Created with Jupyter by Cristian Camilo Zapata Zuluaga.\n",
    "</footer>"
   ]
  }
 ],
 "metadata": {
  "kernelspec": {
   "display_name": "Python 3",
   "language": "python",
   "name": "python3"
  },
  "language_info": {
   "codemirror_mode": {
    "name": "ipython",
    "version": 3
   },
   "file_extension": ".py",
   "mimetype": "text/x-python",
   "name": "python",
   "nbconvert_exporter": "python",
   "pygments_lexer": "ipython3",
   "version": "3.7.3"
  }
 },
 "nbformat": 4,
 "nbformat_minor": 2
}
